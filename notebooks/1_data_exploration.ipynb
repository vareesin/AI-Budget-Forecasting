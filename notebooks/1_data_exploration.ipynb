{
 "cells": [
  {
   "cell_type": "markdown",
   "metadata": {},
   "source": [
    "# Data Exploration for Budget Forecasting\n",
    "\n",
    "This notebook explores the profit data from stores to understand patterns and prepare for modeling."
   ]
  },
  {
   "cell_type": "code",
   "execution_count": null,
   "metadata": {},
   "outputs": [],
   "source": [
    "# Import required libraries\n",
    "import pandas as pd\n",
    "import numpy as np\n",
    "import matplotlib.pyplot as plt\n",
    "import seaborn as sns\n",
    "from datetime import datetime\n",
    "import sys\n",
    "sys.path.append('..')\n",
    "\n",
    "from src.utils import calculate_seasonal_metrics, plot_error_distribution\n",
    "\n",
    "%matplotlib inline\n",
    "plt.style.use('seaborn')\n",
    "sns.set_theme(style=\"whitegrid\")"
   ]
  },
  {
   "cell_type": "markdown",
   "metadata": {},
   "source": [
    "## 1. Load and Inspect Data"
   ]
  },
  {
   "cell_type": "code",
   "execution_count": null,
   "metadata": {},
   "outputs": [],
   "source": [
    "# Load the cleaned data\n",
    "data_path = '../data/processed/Cleaned_Combined_Profit_Data_2023_2024.xlsx'\n",
    "df = pd.read_excel(data_path)\n",
    "\n",
    "print(\"Dataset Shape:\", df.shape)\n",
    "print(\"\\nColumns:\", df.columns.tolist())\n",
    "print(\"\\nFirst few rows:\")\n",
    "df.head()"
   ]
  },
  {
   "cell_type": "markdown",
   "metadata": {},
   "source": [
    "## 2. Data Summary Statistics"
   ]
  },
  {
   "cell_type": "code",
   "execution_count": null,
   "metadata": {},
   "outputs": [],
   "source": [
    "# Calculate basic statistics for each month\n",
    "monthly_stats = df.iloc[:, 1:].describe()\n",
    "print(\"Monthly Statistics:\")\n",
    "monthly_stats"
   ]
  },
  {
   "cell_type": "markdown",
   "metadata": {},
   "source": [
    "## 3. Data Quality Analysis"
   ]
  },
  {
   "cell_type": "code",
   "execution_count": null,
   "metadata": {},
   "outputs": [],
   "source": [
    "# Check for missing values\n",
    "missing_values = df.isnull().sum()\n",
    "print(\"Missing Values per Column:\")\n",
    "print(missing_values[missing_values > 0])\n",
    "\n",
    "# Check for duplicates\n",
    "duplicates = df['Store Name'].duplicated().sum()\n",
    "print(f\"\\nDuplicate Store Names: {duplicates}\")\n",
    "\n",
    "# Check for negative profits\n",
    "negative_profits = (df.iloc[:, 1:] < 0).sum()\n",
    "print(\"\\nNegative Profit Counts per Month:\")\n",
    "print(negative_profits[negative_profits > 0])"
   ]
  },
  {
   "cell_type": "markdown",
   "metadata": {},
   "source": [
    "## 4. Profit Distribution Analysis"
   ]
  },
  {
   "cell_type": "code",
   "execution_count": null,
   "metadata": {},
   "outputs": [],
   "source": [
    "# Plot profit distributions for selected months\n",
    "plt.figure(figsize=(15, 5))\n",
    "sample_months = ['Jan2023', 'Jun2023', 'Dec2023', 'Jun2024']\n",
    "\n",
    "for i, month in enumerate(sample_months, 1):\n",
    "    plt.subplot(1, 4, i)\n",
    "    sns.histplot(df[month].dropna(), kde=True)\n",
    "    plt.title(f'{month} Profit Distribution')\n",
    "    plt.xlabel('Profit')\n",
    "    \n",
    "plt.tight_layout()"
   ]
  },
  {
   "cell_type": "markdown",
   "metadata": {},
   "source": [
    "## 5. Seasonal Analysis"
   ]
  },
  {
   "cell_type": "code",
   "execution_count": null,
   "metadata": {},
   "outputs": [],
   "source": [
    "# Plot average monthly profits\n",
    "monthly_means = df.iloc[:, 1:].mean()\n",
    "plt.figure(figsize=(12, 6))\n",
    "monthly_means.plot(kind='line', marker='o')\n",
    "plt.title('Average Monthly Profits Across All Stores')\n",
    "plt.xlabel('Month')\n",
    "plt.ylabel('Average Profit')\n",
    "plt.xticks(rotation=45)\n",
    "plt.grid(True)\n",
    "plt.tight_layout()\n",
    "\n",
    "# Calculate seasonal metrics\n",
    "seasonal_metrics = calculate_seasonal_metrics(df)\n",
    "print(\"\\nSeasonal Metrics Summary:\")\n",
    "print(seasonal_metrics.describe())"
   ]
  },
  {
   "cell_type": "markdown",
   "metadata": {},
   "source": [
    "## 6. Store Performance Analysis"
   ]
  },
  {
   "cell_type": "code",
   "execution_count": null,
   "metadata": {},
   "outputs": [],
   "source": [
    "# Calculate average performance metrics\n",
    "store_metrics = pd.DataFrame({\n",
    "    'Store Name': df['Store Name'],\n",
    "    'Average Profit': df.iloc[:, 1:].mean(axis=1),\n",
    "    'Profit Volatility': df.iloc[:, 1:].std(axis=1),\n",
    "    'Growth Rate': (df['Jun2024'] - df['Jan2023']) / df['Jan2023'] * 100\n",
    "})\n",
    "\n",
    "# Plot store performance distribution\n",
    "plt.figure(figsize=(12, 4))\n",
    "\n",
    "plt.subplot(1, 2, 1)\n",
    "sns.scatterplot(data=store_metrics, x='Average Profit', y='Profit Volatility')\n",
    "plt.title('Store Performance Profile')\n",
    "\n",
    "plt.subplot(1, 2, 2)\n",
    "sns.histplot(store_metrics['Growth Rate'].dropna(), kde=True)\n",
    "plt.title('Growth Rate Distribution')\n",
    "\n",
    "plt.tight_layout()"
   ]
  },
  {
   "cell_type": "markdown",
   "metadata": {},
   "source": [
    "## 7. Correlation Analysis"
   ]
  },
  {
   "cell_type": "code",
   "execution_count": null,
   "metadata": {},
   "outputs": [],
   "source": [
    "# Calculate correlation between months\n",
    "correlation_matrix = df.iloc[:, 1:].corr()\n",
    "\n",
    "plt.figure(figsize=(12, 8))\n",
    "sns.heatmap(correlation_matrix, \n",
    "            annot=True, \n",
    "            cmap='coolwarm', \n",
    "            center=0,\n",
    "            fmt='.2f')\n",
    "plt.title('Correlation Between Monthly Profits')\n",
    "plt.tight_layout()"
   ]
  },
  {
   "cell_type": "markdown",
   "metadata": {},
   "source": [
    "## 8. Outlier Analysis"
   ]
  },
  {
   "cell_type": "code",
   "execution_count": null,
   "metadata": {},
   "outputs": [],
   "source": [
    "# Calculate Z-scores for each month\n",
    "z_scores = df.iloc[:, 1:].apply(lambda x: (x - x.mean()) / x.std())\n",
    "\n",
    "# Identify potential outliers (|Z-score| > 3)\n",
    "outliers = (np.abs(z_scores) > 3).sum()\n",
    "\n",
    "print(\"Number of potential outliers per month:\")\n",
    "print(outliers)\n",
    "\n",
    "# Plot boxplot for selected months\n",
    "plt.figure(figsize=(15, 6))\n",
    "df[sample_months].boxplot()\n",
    "plt.title('Profit Distribution Boxplots')\n",
    "plt.xticks(rotation=45)\n",
    "plt.ylabel('Profit')\n",
    "plt.tight_layout()"
   ]
  },
  {
   "cell_type": "markdown",
   "metadata": {},
   "source": [
    "## 9. Summary and Insights"
   ]
  },
  {
   "cell_type": "markdown",
   "metadata": {},
   "source": [
    "Key findings from the data exploration:\n",
    "\n",
    "1. Data Quality:\n",
    "   - Missing values distribution\n",
    "   - Outlier patterns\n",
    "   - Data consistency issues\n",
    "\n",
    "2. Profit Patterns:\n",
    "   - Seasonal trends\n",
    "   - Growth patterns\n",
    "   - Store performance variations\n",
    "\n",
    "3. Model Considerations:\n",
    "   - Features to consider\n",
    "   - Preprocessing steps needed\n",
    "   - Potential challenges"
   ]
  }
 ],
 "metadata": {
  "kernelspec": {
   "display_name": "Python 3",
   "language": "python",
   "name": "python3"
  }
 },
 "nbformat": 4,
 "nbformat_minor": 2
}