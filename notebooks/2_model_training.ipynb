{
 "cells": [
  {
   "cell_type": "markdown",
   "metadata": {},
   "source": [
    "# Model Training for Budget Forecasting\n",
    "\n",
    "ในโน้ตบุ๊คนี้จะทำการฝึกและเปรียบเทียบโมเดลต่างๆ สำหรับการพยากรณ์กำไรของร้านค้า โดยมีขั้นตอนดังนี้:\n",
    "1. การเตรียมข้อมูล\n",
    "2. การสร้างและเทรนโมเดลต่างๆ\n",
    "3. การประเมินและเปรียบเทียบผล\n",
    "4. การวิเคราะห์ผลและบันทึกโมเดล"
   ]
  },
  {
   "cell_type": "code",
   "execution_count": null,
   "metadata": {},
   "outputs": [],
   "source": [
    "# Import libraries\n",
    "import pandas as pd\n",
    "import numpy as np\n",
    "import matplotlib.pyplot as plt\n",
    "import seaborn as sns\n",
    "from sklearn.preprocessing import MinMaxScaler\n",
    "from sklearn.metrics import mean_absolute_percentage_error, mean_squared_error, r2_score\n",
    "from sklearn.ensemble import RandomForestRegressor\n",
    "from xgboost import XGBRegressor\n",
    "import tensorflow as tf\n",
    "from tensorflow.keras.models import Sequential\n",
    "from tensorflow.keras.layers import LSTM, GRU, Dense, Dropout, Conv1D, MaxPooling1D\n",
    "from tensorflow.keras.optimizers import Adam\n",
    "from prophet import Prophet\n",
    "import sys\n",
    "import joblib\n",
    "import json\n",
    "import os\n",
    "from datetime import datetime\n",
    "\n",
    "sys.path.append('..')\n",
    "from src.utils import create_dataset, evaluate_predictions, plot_predictions\n",
    "\n",
    "%matplotlib inline\n",
    "plt.style.use('seaborn')\n",
    "sns.set_theme(style=\"whitegrid\")"
   ]
  },
  {
   "cell_type": "markdown",
   "metadata": {},
   "source": [
    "## 1. การโหลดและตรวจสอบข้อมูล"
   ]
  },
  {
   "cell_type": "code",
   "execution_count": null,
   "metadata": {},
   "outputs": [],
   "source": [
    "# โหลดข้อมูล\n",
    "data_path = '../data/processed/Smoothed_Combined_Profit_Data_2023_2024.xlsx'\n",
    "df = pd.read_excel(data_path)\n",
    "\n",
    "print(\"Dataset Info:\")\n",
    "print(f\"Number of stores: {len(df)}\")\n",
    "print(f\"Time period: {df.columns[1:].tolist()[0]} to {df.columns[1:].tolist()[-1]}\")\n",
    "\n",
    "# แสดงข้อมูลตัวอย่าง\n",
    "print(\"\\nSample data:\")\n",
    "df.head()"
   ]
  },
  {
   "cell_type": "markdown",
   "metadata": {},
   "source": [
    "## 2. การเตรียมข้อมูลสำหรับการเทรนโมเดล"
   ]
  },
  {
   "cell_type": "code",
   "execution_count": null,
   "metadata": {},
   "outputs": [],
   "source": [
    "def prepare_data(store_data: pd.Series, look_back: int = 3):\n",
    "    \"\"\"เตรียมข้อมูลสำหรับการเทรน\"\"\"\n",
    "    # สร้าง time series\n",
    "    dates = pd.date_range(start='2023-01-01', periods=len(store_data), freq='M')\n",
    "    ts_data = pd.Series(store_data.values, index=dates)\n",
    "    \n",
    "    # Scale ข้อมูล\n",
    "    scaler = MinMaxScaler(feature_range=(0, 1))\n",
    "    scaled_data = scaler.fit_transform(ts_data.values.reshape(-1, 1))\n",
    "    \n",
    "    # แบ่ง train/test\n",
    "    train_size = int(len(scaled_data) * 0.8)\n",
    "    train_data = scaled_data[:train_size]\n",
    "    test_data = scaled_data[train_size:]\n",
    "    \n",
    "    # สร้าง sequences\n",
    "    X_train, y_train = create_dataset(train_data, look_back)\n",
    "    X_test, y_test = create_dataset(test_data, look_back)\n",
    "    \n",
    "    return X_train, y_train, X_test, y_test, scaler, dates\n",
    "\n",
    "# เลือกร้านตัวอย่าง\n",
    "sample_store = df.iloc[0]\n",
    "store_name = sample_store['Store Name']\n",
    "store_data = sample_store.iloc[1:]\n",
    "\n",
    "# เตรียมข้อมูล\n",
    "look_back = 3\n",
    "X_train, y_train, X_test, y_test, scaler, dates = prepare_data(store_data, look_back)\n",
    "\n",
    "# ปรับรูปแบบข้อมูลสำหรับโมเดลต่างๆ\n",
    "X_train_3d = X_train.reshape((X_train.shape[0], X_train.shape[1], 1))\n",
    "X_test_3d = X_test.reshape((X_test.shape[0], X_test.shape[1], 1))"
   ]
  },
  {
   "cell_type": "markdown",
   "metadata": {},
   "source": [
    "## 3. การสร้างและเทรนโมเดล LSTM"
   ]
  },
  {
   "cell_type": "code",
   "execution_count": null,
   "metadata": {},
   "outputs": [],
   "source": [
    "def build_lstm(look_back: int) -> Sequential:\n",
    "    \"\"\"สร้างโมเดล LSTM\"\"\"\n",
    "    model = Sequential([\n",
    "        LSTM(100, return_sequences=True, input_shape=(look_back, 1)),\n",
    "        Dropout(0.2),\n",
    "        LSTM(50),\n",
    "        Dense(1)\n",
    "    ])\n",
    "    model.compile(optimizer=Adam(learning_rate=0.01), loss='mean_squared_error')\n",
    "    return model\n",
    "\n",
    "# เทรนโมเดล LSTM\n",
    "lstm_model = build_lstm(look_back)\n",
    "lstm_history = lstm_model.fit(\n",
    "    X_train_3d, y_train,\n",
    "    epochs=50,\n",
    "    batch_size=32,\n",
    "    validation_split=0.1,\n",
    "    verbose=1\n",
    ")\n",
    "\n",
    "# Plot training history\n",
    "plt.figure(figsize=(10, 6))\n",
    "plt.plot(lstm_history.history['loss'], label='Training Loss')\n",
    "plt.plot(lstm_history.history['val_loss'], label='Validation Loss')\n",
    "plt.title('LSTM Model Loss')\n",
    "plt.xlabel('Epoch')\n",
    "plt.ylabel('Loss')\n",
    "plt.legend()\n",
    "plt.grid(True)\n",
    "plt.show()"
   ]
  },
  {
   "cell_type": "markdown",
   "metadata": {},
   "source": [
    "## 4. การสร้างและเทรนโมเดล GRU"
   ]
  },
  {
   "cell_type": "code",
   "execution_count": null,
   "metadata": {},
   "outputs": [],
   "source": [
    "def build_gru(look_back: int) -> Sequential:\n",
    "    \"\"\"สร้างโมเดล GRU\"\"\"\n",
    "    model = Sequential([\n",
    "        GRU(100, return_sequences=True, input_shape=(look_back, 1)),\n",
    "        Dropout(0.2),\n",
    "        GRU(50),\n",
    "        Dense(1)\n",
    "    ])\n",
    "    model.compile(optimizer=Adam(learning_rate=0.01), loss='mean_squared_error')\n",
    "    return model\n",
    "\n",
    "# เทรนโมเดล GRU\n",
    "gru_model = build_gru(look_back)\n",
    "gru_history = gru_model.fit(\n",
    "    X_train_3d, y_train,\n",
    "    epochs=50,\n",
    "    batch_size=32,\n",
    "    validation_split=0.1,\n",
    "    verbose=1\n",
    ")"
   ]
  },
  {
   "cell_type": "markdown",
   "metadata": {},
   "source": [
    "## 5. การสร้างและเทรนโมเดล CNN-LSTM"
   ]
  },
  {
   "cell_type": "code",
   "execution_count": null,
   "metadata": {},
   "outputs": [],
   "source": [
    "def build_cnn_lstm(look_back: int) -> Sequential:\n",
    "    \"\"\"สร้างโมเดล CNN-LSTM\"\"\"\n",
    "    model = Sequential([\n",
    "        Conv1D(filters=64, kernel_size=2, activation='relu', input_shape=(look_back, 1)),\n",
    "        MaxPooling1D(pool_size=2),\n",
    "        LSTM(50, return_sequences=True),\n",
    "        Dropout(0.2),\n",
    "        LSTM(25),\n",
    "        Dense(1)\n",
    "    ])\n",
    "    model.compile(optimizer=Adam(learning_rate=0.01), loss='mean_squared_error')\n",
    "    return model\n",
    "\n",
    "# เทรนโมเดล CNN-LSTM\n",
    "cnn_lstm_model = build_cnn_lstm(look_back)\n",
    "cnn_lstm_history = cnn_lstm_model.fit(\n",
    "    X_train_3d, y_train,\n",
    "    epochs=50,\n",
    "    batch_size=32,\n",
    "    validation_split=0.1,\n",
    "    verbose=1\n",
    ")"
   ]
  },
  {
   "cell_type": "markdown",
   "metadata": {},
   "source": [
    "## 6. การเทรนโมเดล Tree-based"
   ]
  },
  {
   "cell_type": "code",
   "execution_count": null,
   "metadata": {},
   "outputs": [],
   "source": [
    "# Random Forest\n",
    "rf_model = RandomForestRegressor(\n",
    "    n_estimators=100,\n",
    "    max_depth=10,\n",
    "    min_samples_split=5,\n",
    "    random_state=42\n",
    ")\n",
    "rf_model.fit(X_train, y_train)\n",
    "\n",
    "# XGBoost\n",
    "xgb_model = XGBRegressor(\n",
    "    n_estimators=100,\n",
    "    max_depth=10,\n",
    "    learning_rate=0.1,\n",
    "    random_state=42\n",
    ")\n",
    "xgb_model.fit(X_train, y_train)"
   ]
  },
  {
   "cell_type": "markdown",
   "metadata": {},
   "source": [
    "## 7. การเทรนโมเดล Prophet"
   ]
  },
  {
   "cell_type": "code",
   "execution_count": null,
   "metadata": {},
   "outputs": [],
   "source": [
    "# เตรียมข้อมูลสำหรับ Prophet\n",
    "prophet_data = pd.DataFrame({\n",
    "    'ds': dates[:len(y_train)],\n",
    "    'y': scaler.inverse_transform(y_train.reshape(-1, 1)).flatten()\n",
    "})\n",
    "\n",
    "# เทรนโมเดล Prophet\n",
    "prophet_model = Prophet(\n",
    "    yearly_seasonality=True,\n",
    "    weekly_seasonality=False,\n",
    "    daily_seasonality=False\n",
    ")\n",
    "prophet_model.fit(prophet_data)"
   ]
  },
  {
    "cells": [
     {
      "cell_type": "markdown",
      "metadata": {},
      "source": [
       "## 8. การประเมินและเปรียบเทียบโมเดล"
      ]
     },
     {
      "cell_type": "code",
      "execution_count": null,
      "metadata": {},
      "outputs": [],
      "source": [
       "# ทำนายผลด้วยแต่ละโมเดล\n",
       "lstm_pred = lstm_model.predict(X_test_3d)\n",
       "gru_pred = gru_model.predict(X_test_3d)\n",
       "cnn_lstm_pred = cnn_lstm_model.predict(X_test_3d)\n",
       "rf_pred = rf_model.predict(X_test)\n",
       "xgb_pred = xgb_model.predict(X_test)\n",
       "\n",
       "# Prophet prediction\n",
       "future_dates = pd.DataFrame({'ds': dates[len(y_train):]})\n",
       "prophet_pred = prophet_model.predict(future_dates)['yhat'].values\n",
       "\n",
       "# แปลงค่ากลับ\n",
       "y_test_orig = scaler.inverse_transform(y_test.reshape(-1, 1))\n",
       "lstm_pred = scaler.inverse_transform(lstm_pred)\n",
       "gru_pred = scaler.inverse_transform(gru_pred)\n",
       "cnn_lstm_pred = scaler.inverse_transform(cnn_lstm_pred)\n",
       "rf_pred = scaler.inverse_transform(rf_pred.reshape(-1, 1))\n",
       "xgb_pred = scaler.inverse_transform(xgb_pred.reshape(-1, 1))\n",
       "prophet_pred = prophet_pred.reshape(-1, 1)[:len(y_test_orig)]\n",
       "\n",
       "# รวมผลการทำนายของทุกโมเดล\n",
       "models = {\n",
       "    'LSTM': lstm_pred,\n",
       "    'GRU': gru_pred,\n",
       "    'CNN-LSTM': cnn_lstm_pred,\n",
       "    'Random Forest': rf_pred,\n",
       "    'XGBoost': xgb_pred,\n",
       "    'Prophet': prophet_pred\n",
       "}\n",
       "\n",
       "# คำนวณ metrics สำหรับแต่ละโมเดล\n",
       "results = {}\n",
       "for name, pred in models.items():\n",
       "    metrics = evaluate_predictions(y_test_orig, pred)\n",
       "    results[name] = metrics\n",
       "    print(f\"\\n{name} Results:\")\n",
       "    for metric, value in metrics.items():\n",
       "        print(f\"{metric}: {value:.2f}\")\n",
       "\n",
       "# Plot ผลการทำนาย\n",
       "plt.figure(figsize=(15, 6))\n",
       "plt.plot(dates[len(y_train):len(y_train)+len(y_test)], \n",
       "         y_test_orig, 'ko-', label='Actual', markersize=8)\n",
       "\n",
       "colors = ['b', 'g', 'r', 'c', 'm', 'y']\n",
       "for (name, pred), color in zip(models.items(), colors):\n",
       "    plt.plot(dates[len(y_train):len(y_train)+len(y_test)],\n",
       "             pred, f'{color}o--', label=f'{name} Prediction', alpha=0.7)\n",
       "\n",
       "plt.title('เปรียบเทียบผลการทำนายของแต่ละโมเดล')\n",
       "plt.xlabel('วันที่')\n",
       "plt.ylabel('กำไร')\n",
       "plt.legend(bbox_to_anchor=(1.05, 1), loc='upper left')\n",
       "plt.grid(True)\n",
       "plt.tight_layout()\n",
       "plt.show()\n",
       "\n",
       "# สร้าง summary table\n",
       "results_df = pd.DataFrame(results).T\n",
       "print(\"\\nModel Performance Summary:\")\n",
       "print(results_df)"


    ]
}
]
},
{
 "cells": [
  {
   "cell_type": "markdown",
   "metadata": {},
   "source": [
    "## 9. การวิเคราะห์ความผิดพลาด"
   ]
  },
  {
   "cell_type": "code",
   "execution_count": null,
   "metadata": {},
   "outputs": [],
   "source": [
    "# Plot error distribution\n",
    "plt.figure(figsize=(15, 5))\n",
    "for i, (name, pred) in enumerate(models.items(), 1):\n",
    "    errors = pred - y_test_orig\n",
    "    plt.subplot(2, 3, i)\n",
    "    sns.histplot(errors, kde=True)\n",
    "    plt.title(f'{name} Error Distribution')\n",
    "    plt.xlabel('Error')\n",
    "\n",
    "plt.tight_layout()\n",
    "plt.show()\n",
    "\n",
    "# Plot error boxplot\n",
    "error_data = []\n",
    "for name, pred in models.items():\n",
    "    errors = pred - y_test_orig\n",
    "    error_data.extend([(name, e[0]) for e in errors])\n",
    "\n",
    "error_df = pd.DataFrame(error_data, columns=['Model', 'Error'])\n",
    "\n",
    "plt.figure(figsize=(10, 6))\n",
    "sns.boxplot(x='Model', y='Error', data=error_df)\n",
    "plt.xticks(rotation=45)\n",
    "plt.title('การกระจายของความผิดพลาดแยกตามโมเดล')\n",
    "plt.tight_layout()\n",
    "plt.show()\n",
    "\n",
    "# สรุปผลการเปรียบเทียบ\n",
    "print(\"\\nสรุปผลการเปรียบเทียบโมเดล:\")\n",
    "for name, metrics in results.items():\n",
    "    print(f\"\\n{name}:\")\n",
    "    print(f\"MAPE: {metrics['MAPE']:.2f}%\")\n",
    "    print(f\"RMSE: {metrics['RMSE']:.2f}\")\n",
    "    print(f\"R2 Score: {metrics['R2']:.4f}\")"
   ]
  }
]
},
{
     "cell_type": "markdown",
      "metadata": {},
      "source": [
       "## 9. การวิเคราะห์ความผิดพลาด"
      ]
     },
     {
      "cell_type": "code",
      "execution_count": null,
      "metadata": {},
      "outputs": [],
      "source": [
       "# Plot error distribution\n",
       "plt.figure(figsize=(15, 5))\n",
       "for i, (name, pred) in enumerate(models.items(), 1):\n",
       "    errors = pred - y_test_orig\n",
       "    plt.subplot(2, 3, i)\n",
       "    sns.histplot(errors, kde=True)\n",
       "    plt.title(f'{name} Error Distribution')\n",
       "    plt.xlabel('Error')\n",
       "\n",
       "plt.tight_layout()\n",
       "plt.show()\n",
       "\n",
       "# Plot error boxplot\n",
       "error_data = []\n",
       "for name, pred in models.items():\n",
       "    errors = pred - y_test_orig\n",
       "    error_data.extend([(name, e[0]) for e in errors])\n",
       "\n",
       "error_df = pd.DataFrame(error_data, columns=['Model', 'Error'])\n",
       "\n",
       "plt.figure(figsize=(10, 6))\n",
       "sns.boxplot(x='Model', y='Error', data=error_df)\n",
       "plt.xticks(rotation=45)\n",
       "plt.title('การกระจายของความผิดพลาดแยกตามโมเดล')\n",
       "plt.tight_layout()\n",
       "plt.show()\n",
       "\n",
       "# สรุปผลการเปรียบเทียบ\n",
       "print(\"\\nสรุปผลการเปรียบเทียบโมเดล:\")\n",
       "for name, metrics in results.items():\n",
       "    print(f\"\\n{name}:\")\n",
       "    print(f\"MAPE: {metrics['MAPE']:.2f}%\")\n",
       "    print(f\"RMSE: {metrics['RMSE']:.2f}\")\n",
       "    print(f\"R2 Score: {metrics['R2']:.4f}\")"
      ]
     }
    ]
   }

